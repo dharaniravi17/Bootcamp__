{
 "cells": [
  {
   "cell_type": "code",
   "execution_count": 1,
   "id": "fb570d79-d388-40c4-afe8-abd2de1dad84",
   "metadata": {},
   "outputs": [
    {
     "name": "stdout",
     "output_type": "stream",
     "text": [
      "Before update:\n",
      "w1: 0.13985358612745655, b1: 0.5520184415914143, w2: 0.059564943728513, b2: 0.20048189428969335\n",
      "After update:\n",
      "w1: [0.14551223], b1: [0.55484776], w2: [0.09907171], b2: [0.24798166]\n"
     ]
    }
   ],
   "source": [
    "import pandas as pd\n",
    "import tensorflow as tf\n",
    "from tensorflow import keras\n",
    "import matplotlib.pyplot as plt\n",
    "import numpy as np\n",
    "\n",
    "class ManualNN:\n",
    "    def __init__(self):\n",
    "        self.w1 = np.random.randn()\n",
    "        self.b1 = np.random.randn()\n",
    "        self.w2 = np.random.randn()\n",
    "        self.b2 = np.random.randn()\n",
    "        self.learning_rate = 0.01\n",
    "    \n",
    "    def forward(self, x):\n",
    "        self.z1 = self.w1 * x + self.b1  \n",
    "        self.a1 = max(0, self.z1)  \n",
    "        self.z2 = self.w2 * self.a1 + self.b2  \n",
    "        return self.z2\n",
    "    \n",
    "    def compute_loss(self, y_pred, y_true):\n",
    "        return 0.5 * (y_pred - y_true) ** 2  \n",
    "    \n",
    "    def backward(self, x, y_true):\n",
    "        y_pred = self.forward(x)\n",
    "        \n",
    "        dL_dy = y_pred - y_true  \n",
    "        dL_dw2 = dL_dy * self.a1  \n",
    "        dL_db2 = dL_dy  \n",
    "        \n",
    "        dL_da1 = dL_dy * self.w2  \n",
    "        dL_dz1 = dL_da1 * (1 if self.z1 > 0 else 0)  \n",
    "        dL_dw1 = dL_dz1 * x \n",
    "        dL_db1 = dL_dz1  \n",
    "        \n",
    "        self.w1 -= self.learning_rate * dL_dw1\n",
    "        self.b1 -= self.learning_rate * dL_db1\n",
    "        self.w2 -= self.learning_rate * dL_dw2\n",
    "        self.b2 -= self.learning_rate * dL_db2\n",
    "\n",
    "nn = ManualNN()\n",
    "x_sample = np.array([2.0])  \n",
    "y_sample = np.array([5.0])  \n",
    "\n",
    "print(\"Before update:\")\n",
    "print(f\"w1: {nn.w1}, b1: {nn.b1}, w2: {nn.w2}, b2: {nn.b2}\")\n",
    "\n",
    "nn.backward(x_sample, y_sample) \n",
    "\n",
    "print(\"After update:\")\n",
    "print(f\"w1: {nn.w1}, b1: {nn.b1}, w2: {nn.w2}, b2: {nn.b2}\")\n"
   ]
  },
  {
   "cell_type": "code",
   "execution_count": null,
   "id": "2dffdb53-70cc-46b7-9a4a-d28224199759",
   "metadata": {},
   "outputs": [],
   "source": []
  }
 ],
 "metadata": {
  "kernelspec": {
   "display_name": "Python 3 (ipykernel)",
   "language": "python",
   "name": "python3"
  },
  "language_info": {
   "codemirror_mode": {
    "name": "ipython",
    "version": 3
   },
   "file_extension": ".py",
   "mimetype": "text/x-python",
   "name": "python",
   "nbconvert_exporter": "python",
   "pygments_lexer": "ipython3",
   "version": "3.12.4"
  }
 },
 "nbformat": 4,
 "nbformat_minor": 5
}
