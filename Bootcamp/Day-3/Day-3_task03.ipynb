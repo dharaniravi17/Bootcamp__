{
 "cells": [
  {
   "cell_type": "code",
   "execution_count": 10,
   "id": "bd03361a-fda0-47cd-9871-9a463eb048e4",
   "metadata": {},
   "outputs": [],
   "source": [
    "#Inheritance"
   ]
  },
  {
   "cell_type": "code",
   "execution_count": 14,
   "id": "9f58b840-69ae-4e02-8ae0-225b015a1e57",
   "metadata": {},
   "outputs": [
    {
     "name": "stdout",
     "output_type": "stream",
     "text": [
      "Puppy Name: Zeezer, Age: 1, Breed: German Shephard\n",
      "Zeezer says Woof! \n",
      "Zeezer is sleeping.\n",
      "Zeezer is playing happily!\n"
     ]
    }
   ],
   "source": [
    "class Dog:\n",
    "    def __init__(self, name, age):\n",
    "        self.name = name\n",
    "        self.age = age\n",
    "\n",
    "    def bark(self):\n",
    "        print(f\"{self.name} says Woof! \")\n",
    "\n",
    "    def sleep(self):\n",
    "        print(f\"{self.name} is sleeping.\")\n",
    "\n",
    "class Puppy(Dog):\n",
    "    def __init__(self, name, age, breed):\n",
    "        super().__init__(name, age) \n",
    "        self.breed = breed  \n",
    "\n",
    "    def play(self):\n",
    "        print(f\"{self.name} is playing happily!\")\n",
    "\n",
    "puppy = Puppy(\"Zeezer\", 1, \"German Shephard\")\n",
    "print(f\"Puppy Name: {puppy.name}, Age: {puppy.age}, Breed: {puppy.breed}\")\n",
    "puppy.bark()\n",
    "puppy.sleep()\n",
    "puppy.play()\n"
   ]
  },
  {
   "cell_type": "code",
   "execution_count": null,
   "id": "1a8f6ae4-aafd-4f48-a1e9-96ff3099f0e4",
   "metadata": {},
   "outputs": [],
   "source": []
  }
 ],
 "metadata": {
  "kernelspec": {
   "display_name": "Python 3 (ipykernel)",
   "language": "python",
   "name": "python3"
  },
  "language_info": {
   "codemirror_mode": {
    "name": "ipython",
    "version": 3
   },
   "file_extension": ".py",
   "mimetype": "text/x-python",
   "name": "python",
   "nbconvert_exporter": "python",
   "pygments_lexer": "ipython3",
   "version": "3.12.4"
  }
 },
 "nbformat": 4,
 "nbformat_minor": 5
}
