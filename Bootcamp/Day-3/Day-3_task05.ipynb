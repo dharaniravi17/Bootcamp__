{
 "cells": [
  {
   "cell_type": "code",
   "execution_count": 1,
   "id": "0da05747-8ab4-4df7-8cec-e365e28f389b",
   "metadata": {},
   "outputs": [],
   "source": [
    "#Encapsulation"
   ]
  },
  {
   "cell_type": "code",
   "execution_count": 3,
   "id": "4bcad255-e639-499d-92c2-687090af26d5",
   "metadata": {},
   "outputs": [
    {
     "name": "stdout",
     "output_type": "stream",
     "text": [
      "Robot Model: X-100\n",
      "Energy Level: 50%\n",
      "Robot charged! Energy Level: 80%\n",
      "Model: X-100, Energy Level: 80%\n"
     ]
    }
   ],
   "source": [
    "class Robot:\n",
    "    def __init__(self, model, energy_level):\n",
    "        self._model = model \n",
    "        self.__energy_level = energy_level \n",
    "\n",
    "    def get_energy_level(self):\n",
    "        return f\"Energy Level: {self.__energy_level}%\"\n",
    "\n",
    "    def charge(self, amount):\n",
    "        if amount > 0:\n",
    "            self.__energy_level = min(100, self.__energy_level + amount)\n",
    "            print(f\"Robot charged! {self.get_energy_level()}\")\n",
    "        else:\n",
    "            print(\"Invalid charge amount!\")\n",
    "\n",
    "    def show_details(self):\n",
    "        print(f\"Model: {self._model}, {self.get_energy_level()}\")\n",
    "\n",
    "robot1 = Robot(\"X-100\", 50)\n",
    "print(f\"Robot Model: {robot1._model}\") \n",
    "\n",
    "print(robot1.get_energy_level())  \n",
    "\n",
    "robot1.charge(30) \n",
    "\n",
    "robot1.show_details() \n"
   ]
  },
  {
   "cell_type": "code",
   "execution_count": null,
   "id": "8cda4185-7657-4a59-90a1-bfd0d2f3a2b7",
   "metadata": {},
   "outputs": [],
   "source": []
  }
 ],
 "metadata": {
  "kernelspec": {
   "display_name": "Python 3 (ipykernel)",
   "language": "python",
   "name": "python3"
  },
  "language_info": {
   "codemirror_mode": {
    "name": "ipython",
    "version": 3
   },
   "file_extension": ".py",
   "mimetype": "text/x-python",
   "name": "python",
   "nbconvert_exporter": "python",
   "pygments_lexer": "ipython3",
   "version": "3.12.4"
  }
 },
 "nbformat": 4,
 "nbformat_minor": 5
}
