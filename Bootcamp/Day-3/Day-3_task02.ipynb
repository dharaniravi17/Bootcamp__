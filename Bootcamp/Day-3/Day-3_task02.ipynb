{
 "cells": [
  {
   "cell_type": "code",
   "execution_count": 1,
   "id": "77473f85-c780-4a26-a964-b1662a90e214",
   "metadata": {},
   "outputs": [],
   "source": [
    "#Constructor use"
   ]
  },
  {
   "cell_type": "code",
   "execution_count": 7,
   "id": "a344aa1a-3504-4965-b388-1c57792ecf7a",
   "metadata": {},
   "outputs": [
    {
     "name": "stdout",
     "output_type": "stream",
     "text": [
      "Dog Name: zuzi, Age: 4\n",
      "zuzi says Woof! \n",
      "zuzi is sleeping.\n"
     ]
    }
   ],
   "source": [
    "class Dog:\n",
    "    def __init__(self, name, age):\n",
    "        self.name = name\n",
    "        self.age = age\n",
    "    def bark(self):\n",
    "        print(f\"{self.name} says Woof! \")\n",
    "\n",
    "    def sleep(self):\n",
    "        print(f\"{self.name} is sleeping.\")\n",
    "\n",
    "dog = Dog(\"zuzi\", 4)\n",
    "print(f\"Dog Name: {dog.name}, Age: {dog.age}\")  \n",
    "dog.bark()   \n",
    "dog.sleep()  \n"
   ]
  },
  {
   "cell_type": "code",
   "execution_count": null,
   "id": "778010bd-8eb3-4a6c-8d79-b943c0ad5ed5",
   "metadata": {},
   "outputs": [],
   "source": []
  }
 ],
 "metadata": {
  "kernelspec": {
   "display_name": "Python 3 (ipykernel)",
   "language": "python",
   "name": "python3"
  },
  "language_info": {
   "codemirror_mode": {
    "name": "ipython",
    "version": 3
   },
   "file_extension": ".py",
   "mimetype": "text/x-python",
   "name": "python",
   "nbconvert_exporter": "python",
   "pygments_lexer": "ipython3",
   "version": "3.12.4"
  }
 },
 "nbformat": 4,
 "nbformat_minor": 5
}
