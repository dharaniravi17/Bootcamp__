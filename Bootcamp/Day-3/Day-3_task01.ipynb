{
 "cells": [
  {
   "cell_type": "code",
   "execution_count": 1,
   "id": "eefd03d9-4a3a-43f8-8e32-a82e72629ffe",
   "metadata": {},
   "outputs": [],
   "source": [
    "#Class Creation"
   ]
  },
  {
   "cell_type": "code",
   "execution_count": 3,
   "id": "0830adb9-04da-40ca-9bb1-87ca8e72d9da",
   "metadata": {},
   "outputs": [
    {
     "name": "stdout",
     "output_type": "stream",
     "text": [
      "Buddy says Woof!\n",
      "Buddy is sleeping.\n"
     ]
    }
   ],
   "source": [
    "class Dog:\n",
    "    def __init__(self, name, age):\n",
    "        self.name = name\n",
    "        self.age = age\n",
    "\n",
    "    def bark(self):\n",
    "        print(f\"{self.name} says Woof!\")\n",
    "\n",
    "    def sleep(self):\n",
    "        print(f\"{self.name} is sleeping.\")\n",
    "\n",
    "dog = Dog(\"Buddy\", 3)\n",
    "dog.bark()  \n",
    "dog.sleep()  \n"
   ]
  },
  {
   "cell_type": "code",
   "execution_count": null,
   "id": "d1cd6676-3205-4133-8d02-2b4d7136d2c1",
   "metadata": {},
   "outputs": [],
   "source": []
  }
 ],
 "metadata": {
  "kernelspec": {
   "display_name": "Python 3 (ipykernel)",
   "language": "python",
   "name": "python3"
  },
  "language_info": {
   "codemirror_mode": {
    "name": "ipython",
    "version": 3
   },
   "file_extension": ".py",
   "mimetype": "text/x-python",
   "name": "python",
   "nbconvert_exporter": "python",
   "pygments_lexer": "ipython3",
   "version": "3.12.4"
  }
 },
 "nbformat": 4,
 "nbformat_minor": 5
}
