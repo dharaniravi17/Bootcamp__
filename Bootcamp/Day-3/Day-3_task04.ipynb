{
 "cells": [
  {
   "cell_type": "code",
   "execution_count": 3,
   "id": "d6310ce1-5400-4a98-b673-f6d88cadefd1",
   "metadata": {},
   "outputs": [
    {
     "name": "stdout",
     "output_type": "stream",
     "text": [
      "Max says Woof! \n",
      "Max is sleeping.\n",
      "This cat says Meow!\n",
      "Max is 2 years old and has black fur.\n"
     ]
    }
   ],
   "source": [
    "class Dog:\n",
    "    def __init__(self, name, age):\n",
    "        self.name = name\n",
    "        self.age = age\n",
    "\n",
    "    def bark(self):\n",
    "        print(f\"{self.name} says Woof! \")\n",
    "\n",
    "    def sleep(self):\n",
    "        print(f\"{self.name} is sleeping.\")\n",
    "        \n",
    "class Cat:\n",
    "    def __init__(self, color):\n",
    "        self.color = color\n",
    "    def meow(self):\n",
    "        print(f\"This cat says Meow!\")\n",
    "    def play(self):\n",
    "        print(f\"The cat is playing!\")\n",
    "\n",
    "class Hybrid(Dog, Cat):\n",
    "    def __init__(self, name, age, color):\n",
    "        Dog.__init__(self, name, age)\n",
    "        Cat.__init__(self, color)\n",
    "\n",
    "    def traits(self):\n",
    "        print(f\"{self.name} is {self.age} years old and has {self.color} fur.\")\n",
    "\n",
    "hybrid1 = Hybrid(\"Max\", 2, \"black\")\n",
    "\n",
    "hybrid1.bark()      \n",
    "hybrid1.sleep()     \n",
    "hybrid1.meow()       \n",
    "hybrid1.traits() \n"
   ]
  },
  {
   "cell_type": "code",
   "execution_count": null,
   "id": "b6d312ff-8b0a-4a2a-835a-762f20a32ea0",
   "metadata": {},
   "outputs": [],
   "source": []
  }
 ],
 "metadata": {
  "kernelspec": {
   "display_name": "Python 3 (ipykernel)",
   "language": "python",
   "name": "python3"
  },
  "language_info": {
   "codemirror_mode": {
    "name": "ipython",
    "version": 3
   },
   "file_extension": ".py",
   "mimetype": "text/x-python",
   "name": "python",
   "nbconvert_exporter": "python",
   "pygments_lexer": "ipython3",
   "version": "3.12.4"
  }
 },
 "nbformat": 4,
 "nbformat_minor": 5
}
