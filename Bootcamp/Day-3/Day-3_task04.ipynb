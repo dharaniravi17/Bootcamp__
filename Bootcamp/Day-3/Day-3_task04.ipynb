{
 "cells": [
  {
   "cell_type": "code",
   "execution_count": null,
   "id": "d6310ce1-5400-4a98-b673-f6d88cadefd1",
   "metadata": {},
   "outputs": [],
   "source": [
    "class Dog:\n",
    "    def __init__(self, name, age):\n",
    "        self.name = name\n",
    "        self.age = age\n",
    "\n",
    "    def bark(self):\n",
    "        print(f\"{self.name} says Woof! \")\n",
    "\n",
    "    def sleep(self):\n",
    "        print(f\"{self.name} is sleeping.\")\n",
    "        \n",
    "class Cat:\n",
    "    def __init__(self, color):\n",
    "        self.color = color\n",
    "    def meow(self):\n",
    "        print(f\"This cat says Meow!\")\n",
    "    def scratch(self):\n",
    "        print(f\"The cat is scratching the furniture!\")\n",
    "\n",
    "class Hybrid(Dog, Cat):\n",
    "    def __init__(self, name, age, color):\n",
    "        Dog.__init__(self, name, age)\n",
    "        Cat.__init__(self, color)\n",
    "\n",
    "    def show_traits(self):\n",
    "        print(f\"{self.name} is {self.age} years old and has {self.color} fur.\")\n",
    "\n",
    "hybrid = Hybrid(\"Max\", 2, \"Golden\")\n",
    "\n",
    "hybrid1.bark()        
    "hybrid1.sleep()       # Output: Max is sleeping... 😴\n",
    "hybrid1.meow()        # Output: This cat says Meow! 🐱\n",
    "hybrid1.scratch()     # Output: The cat is scratching the furniture! 😾\n",
    "hybrid1.show_traits() # Output: Max is 2 years old and has Golden fur.\n"
   ]
  }
 ],
 "metadata": {
  "kernelspec": {
   "display_name": "Python 3 (ipykernel)",
   "language": "python",
   "name": "python3"
  },
  "language_info": {
   "codemirror_mode": {
    "name": "ipython",
    "version": 3
   },
   "file_extension": ".py",
   "mimetype": "text/x-python",
   "name": "python",
   "nbconvert_exporter": "python",
   "pygments_lexer": "ipython3",
   "version": "3.12.4"
  }
 },
 "nbformat": 4,
 "nbformat_minor": 5
}
