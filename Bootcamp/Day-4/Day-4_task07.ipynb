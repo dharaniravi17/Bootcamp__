{
 "cells": [
  {
   "cell_type": "code",
   "execution_count": 1,
   "id": "be6359cd-6d2e-4dd7-a8e2-a2e5b0f3c246",
   "metadata": {},
   "outputs": [],
   "source": [
    "#Outlier Impact"
   ]
  },
  {
   "cell_type": "code",
   "execution_count": null,
   "id": "270123fa-fea6-4ed6-8ebd-2d1fc62f4e9b",
   "metadata": {},
   "outputs": [],
   "source": []
  }
 ],
 "metadata": {
  "kernelspec": {
   "display_name": "Python 3 (ipykernel)",
   "language": "python",
   "name": "python3"
  },
  "language_info": {
   "codemirror_mode": {
    "name": "ipython",
    "version": 3
   },
   "file_extension": ".py",
   "mimetype": "text/x-python",
   "name": "python",
   "nbconvert_exporter": "python",
   "pygments_lexer": "ipython3",
   "version": "3.12.4"
  }
 },
 "nbformat": 4,
 "nbformat_minor": 5
}
