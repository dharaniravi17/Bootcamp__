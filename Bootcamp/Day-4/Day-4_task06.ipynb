{
 "cells": [
  {
   "cell_type": "code",
   "execution_count": 1,
   "id": "aa70f332-aa46-45b6-8911-8db3e06b6ea0",
   "metadata": {},
   "outputs": [],
   "source": [
    "#Polynomial Regression"
   ]
  },
  {
   "cell_type": "code",
   "execution_count": null,
   "id": "b137212c-bb9f-4a2a-b8f9-272f32f09baa",
   "metadata": {},
   "outputs": [],
   "source": [
    "import pandas as pd\n",
    "import numpy as np\n",
    "import matplotlib.pyplot as plt\n",
    "from sklearn.model_selection import train_test_split\n",
    "from sklearn.preprocessing import PolynomialFeatures\n",
    "from sklearn.linear_model import LinearRegression\n",
    "from sklearn.metrics import r2_score, mean_squared_error\n",
    "\n",
    "file_path = \"C:\\\\Users\\\\Dharani Ravi\\\\Desktop\\\\ML projects\\\\stockprice\\\\data\\\\AAPL.csv\"\n",
    "df = pd.read_csv(file_path, skiprows=1)\n",
    "\n",
    "df.columns = [\"Date\", \"Close\", \"High\", \"Low\", \"Open\", \"Volume\"]\n",
    "df = df.iloc[1:].reset_index(drop=True)\n",
    "\n",
    "df[[\"Close\", \"High\", \"Low\", \"Open\", \"Volume\"]] = df[[\"Close\", \"High\", \"Low\", \"Open\", \"Volume\"]].astype(float)\n",
    "df[\"Date\"] = pd.to_datetime(df[\"Date\"])\n",
    "\n",
    "X = df[[\"Open\", \"High\", \"Low\", \"Volume\"]]\n",
    "y = df[\"Close\"]\n",
    "\n",
    "X_train, X_test, y_train, y_test = train_test_split(X, y, test_size=0.2, random_state=42)\n",
    "\n",
    "poly = PolynomialFeatures(degree=2)\n",
    "X_train_poly = poly.fit_transform(X_train)\n",
    "X_test_poly = poly.transform(X_test)\n",
    "\n",
    "model = LinearRegression()\n",
    "model.fit(X_train_poly, y_train)\n",
    "\n",
    "y_pred = model.predict(X_test_poly)\n",
    "\n",
    "r2 = r2_score(y_test, y_pred)\n",
    "rmse = np.sqrt(mean_squared_error(y_test, y_pred))\n",
    "\n",
    "print(f\"R-squared Score: {r2:.4f}\")\n",
    "print(f\"RMSE: {rmse:.4f}\")\n",
    "\n",
    "plt.figure(figsize=(8, 5))\n",
    "plt.scatter(y_test, y_pred, color='blue', label='Polynomial Regression Predictions')\n",
    "plt.xlabel(\"Actual Close Price\")\n",
    "plt.ylabel(\"Predicted Close Price\")\n",
    "plt.title(\"Polynomial Regression: Actual vs Predicted Close Price\")\n",
    "plt.legend()\n",
    "plt.show()\n",
    "\n",
    "feature_importance = pd.DataFrame({\"Feature\": poly.get_feature_names_out(input_features=X.columns), \"Coefficient\": model.coef_})\n",
    "print(\"Feature Importance:\")\n",
    "print(feature_importance)"
   ]
  }
 ],
 "metadata": {
  "kernelspec": {
   "display_name": "Python 3 (ipykernel)",
   "language": "python",
   "name": "python3"
  },
  "language_info": {
   "codemirror_mode": {
    "name": "ipython",
    "version": 3
   },
   "file_extension": ".py",
   "mimetype": "text/x-python",
   "name": "python",
   "nbconvert_exporter": "python",
   "pygments_lexer": "ipython3",
   "version": "3.12.4"
  }
 },
 "nbformat": 4,
 "nbformat_minor": 5
}
