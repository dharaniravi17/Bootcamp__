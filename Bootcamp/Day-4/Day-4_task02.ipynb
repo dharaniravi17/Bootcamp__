{
 "cells": [
  {
   "cell_type": "code",
   "execution_count": 1,
   "id": "e0473392-f917-45a7-9cea-d226164b1df4",
   "metadata": {},
   "outputs": [],
   "source": [
    "#Data Visualization for Regression"
   ]
  },
  {
   "cell_type": "code",
   "execution_count": null,
   "id": "cebe6346-a1b6-492a-89ee-45aa581f5007",
   "metadata": {},
   "outputs": [],
   "source": []
  }
 ],
 "metadata": {
  "kernelspec": {
   "display_name": "Python 3 (ipykernel)",
   "language": "python",
   "name": "python3"
  },
  "language_info": {
   "codemirror_mode": {
    "name": "ipython",
    "version": 3
   },
   "file_extension": ".py",
   "mimetype": "text/x-python",
   "name": "python",
   "nbconvert_exporter": "python",
   "pygments_lexer": "ipython3",
   "version": "3.12.4"
  }
 },
 "nbformat": 4,
 "nbformat_minor": 5
}
