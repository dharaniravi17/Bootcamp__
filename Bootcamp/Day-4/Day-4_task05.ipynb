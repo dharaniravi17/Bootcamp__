{
 "cells": [
  {
   "cell_type": "code",
   "execution_count": 2,
   "id": "6d499006-92d0-47e7-83fe-e876a7fa912d",
   "metadata": {},
   "outputs": [],
   "source": [
    "#Feature Impact Analysis"
   ]
  },
  {
   "cell_type": "code",
   "execution_count": 4,
   "id": "faae9240-78ec-4388-b405-dd96bc5ee006",
   "metadata": {},
   "outputs": [
    {
     "name": "stdout",
     "output_type": "stream",
     "text": [
      "Feature Importance:\n",
      "  Feature   Coefficient\n",
      "0    Open -6.533770e-01\n",
      "1    High  8.368933e-01\n",
      "2     Low  8.167736e-01\n",
      "3  Volume  1.409675e-09\n"
     ]
    }
   ],
   "source": [
    "import pandas as pd\n",
    "import numpy as np\n",
    "import matplotlib.pyplot as plt\n",
    "from sklearn.model_selection import train_test_split\n",
    "from sklearn.linear_model import LinearRegression\n",
    "from sklearn.metrics import r2_score, mean_squared_error\n",
    "\n",
    "file_path = \"C:\\\\Users\\\\Dharani Ravi\\\\Desktop\\\\ML projects\\\\stockprice\\\\data\\\\AAPL.csv\"\n",
    "df = pd.read_csv(file_path, skiprows=1)\n",
    "\n",
    "df.columns = [\"Date\", \"Close\", \"High\", \"Low\", \"Open\", \"Volume\"]\n",
    "df = df.iloc[1:].reset_index(drop=True)\n",
    "\n",
    "df[[\"Close\", \"High\", \"Low\", \"Open\", \"Volume\"]] = df[[\"Close\", \"High\", \"Low\", \"Open\", \"Volume\"]].astype(float)\n",
    "df[\"Date\"] = pd.to_datetime(df[\"Date\"])\n",
    "\n",
    "X = df[[\"Open\", \"High\", \"Low\", \"Volume\"]]\n",
    "y = df[\"Close\"]\n",
    "\n",
    "X_train, X_test, y_train, y_test = train_test_split(X, y, test_size=0.2, random_state=42)\n",
    "\n",
    "model = LinearRegression()\n",
    "model.fit(X_train, y_train)\n",
    "\n",
    "\n",
    "\n",
    "feature_importance = pd.DataFrame({\"Feature\": X.columns, \"Coefficient\": model.coef_})\n",
    "print(\"Feature Importance:\")\n",
    "print(feature_importance)\n"
   ]
  },
  {
   "cell_type": "code",
   "execution_count": null,
   "id": "bb6f6f53-b04b-4e6b-be1f-2e47cda5ba76",
   "metadata": {},
   "outputs": [],
   "source": []
  }
 ],
 "metadata": {
  "kernelspec": {
   "display_name": "Python 3 (ipykernel)",
   "language": "python",
   "name": "python3"
  },
  "language_info": {
   "codemirror_mode": {
    "name": "ipython",
    "version": 3
   },
   "file_extension": ".py",
   "mimetype": "text/x-python",
   "name": "python",
   "nbconvert_exporter": "python",
   "pygments_lexer": "ipython3",
   "version": "3.12.4"
  }
 },
 "nbformat": 4,
 "nbformat_minor": 5
}
